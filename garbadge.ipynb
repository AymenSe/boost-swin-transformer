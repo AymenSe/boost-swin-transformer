{
 "cells": [
  {
   "cell_type": "code",
   "execution_count": null,
   "metadata": {},
   "outputs": [],
   "source": [
    "param_weights = []\n",
    "        param_biases = []\n",
    "        for param in model.parameters():\n",
    "            if param.ndim == 1:\n",
    "                param_biases.append(param)\n",
    "            else:\n",
    "                param_weights.append(param)\n",
    "            parameters = [{'params': param_weights}, {'params': param_biases}]\n",
    "            \n",
    "        optimizer = LARS(parameters, lr=0, weight_decay=config.MODEL.BARLOW['W_DECAY'], weight_decay_filter=True, lars_adaptation_filter=True)"
   ]
  },
  {
   "cell_type": "code",
   "execution_count": 7,
   "metadata": {},
   "outputs": [
    {
     "name": "stdout",
     "output_type": "stream",
     "text": [
      "0 1 0\n",
      "1 2 1\n",
      "2 3 2\n",
      "3 4 3\n",
      "4 5 4\n",
      "5 1 0\n",
      "6 2 1\n",
      "7 3 2\n",
      "8 4 3\n",
      "9 5 4\n",
      "10 1 0\n",
      "11 2 1\n",
      "12 3 2\n",
      "13 4 3\n",
      "14 5 4\n",
      "15 1 0\n",
      "16 2 1\n",
      "17 3 2\n",
      "18 4 3\n",
      "19 5 4\n",
      "20 1 0\n",
      "21 2 1\n",
      "22 3 2\n",
      "23 4 3\n",
      "24 5 4\n",
      "25 1 0\n",
      "26 2 1\n",
      "27 3 2\n",
      "28 4 3\n",
      "29 5 4\n",
      "30 1 0\n",
      "31 2 1\n",
      "32 3 2\n",
      "33 4 3\n",
      "34 5 4\n",
      "35 1 0\n",
      "36 2 1\n",
      "37 3 2\n",
      "38 4 3\n",
      "39 5 4\n",
      "40 1 0\n",
      "41 2 1\n",
      "42 3 2\n",
      "43 4 3\n",
      "44 5 4\n",
      "45 1 0\n",
      "46 2 1\n",
      "47 3 2\n",
      "48 4 3\n",
      "49 5 4\n"
     ]
    }
   ],
   "source": [
    "l = [1, 2, 3, 4, 5]\n",
    "step = 0\n",
    "for epoch in range(0, 10):\n",
    "    start = epoch * len(l)\n",
    "    for i, v in enumerate(l):\n",
    "        step =  i + start\n",
    "        print(step, v, i)"
   ]
  },
  {
   "cell_type": "code",
   "execution_count": null,
   "metadata": {},
   "outputs": [],
   "source": []
  }
 ],
 "metadata": {
  "kernelspec": {
   "display_name": "Python 3.10.6 ('torch')",
   "language": "python",
   "name": "python3"
  },
  "language_info": {
   "codemirror_mode": {
    "name": "ipython",
    "version": 3
   },
   "file_extension": ".py",
   "mimetype": "text/x-python",
   "name": "python",
   "nbconvert_exporter": "python",
   "pygments_lexer": "ipython3",
   "version": "3.10.6"
  },
  "orig_nbformat": 4,
  "vscode": {
   "interpreter": {
    "hash": "629a1f200d627dc9f78053cb8498f06c4855dec7207b8b69c336b24456dfbb1f"
   }
  }
 },
 "nbformat": 4,
 "nbformat_minor": 2
}
